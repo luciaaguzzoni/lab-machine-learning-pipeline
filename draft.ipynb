{
 "cells": [
  {
   "cell_type": "code",
   "execution_count": 20,
   "id": "ea7cc2af",
   "metadata": {},
   "outputs": [],
   "source": [
    "import pandas as pd\n",
    "import numpy as np"
   ]
  },
  {
   "cell_type": "code",
   "execution_count": 3,
   "id": "a29fb33c",
   "metadata": {},
   "outputs": [],
   "source": [
    "from matplotlib import pyplot as plt\n",
    "%matplotlib inline\n",
    "%config Inlinebackend.figure_format = 'retina'\n",
    "\n",
    "import seaborn as sns\n",
    "sns.set_context('poster')\n",
    "sns.set(rc={'figure.figsize': (16., 9.)})\n",
    "sns.set_style('whitegrid')"
   ]
  },
  {
   "cell_type": "code",
   "execution_count": 4,
   "id": "7b34caa0",
   "metadata": {},
   "outputs": [],
   "source": [
    "import warnings\n",
    "warnings.filterwarnings(\"ignore\", category=FutureWarning)"
   ]
  },
  {
   "cell_type": "code",
   "execution_count": 37,
   "id": "ee0af4de",
   "metadata": {},
   "outputs": [],
   "source": [
    "from sklearn import metrics"
   ]
  },
  {
   "cell_type": "code",
   "execution_count": null,
   "id": "bf38528d",
   "metadata": {},
   "outputs": [],
   "source": []
  },
  {
   "cell_type": "code",
   "execution_count": 13,
   "id": "76886d2e",
   "metadata": {},
   "outputs": [],
   "source": [
    "diamonds = pd.read_csv(\"data/train.csv\")"
   ]
  },
  {
   "cell_type": "code",
   "execution_count": 14,
   "id": "8f0e3d34",
   "metadata": {},
   "outputs": [
    {
     "data": {
      "text/html": [
       "<div>\n",
       "<style scoped>\n",
       "    .dataframe tbody tr th:only-of-type {\n",
       "        vertical-align: middle;\n",
       "    }\n",
       "\n",
       "    .dataframe tbody tr th {\n",
       "        vertical-align: top;\n",
       "    }\n",
       "\n",
       "    .dataframe thead th {\n",
       "        text-align: right;\n",
       "    }\n",
       "</style>\n",
       "<table border=\"1\" class=\"dataframe\">\n",
       "  <thead>\n",
       "    <tr style=\"text-align: right;\">\n",
       "      <th></th>\n",
       "      <th>id</th>\n",
       "      <th>carat</th>\n",
       "      <th>cut</th>\n",
       "      <th>color</th>\n",
       "      <th>clarity</th>\n",
       "      <th>depth</th>\n",
       "      <th>table</th>\n",
       "      <th>x</th>\n",
       "      <th>y</th>\n",
       "      <th>z</th>\n",
       "      <th>price</th>\n",
       "    </tr>\n",
       "  </thead>\n",
       "  <tbody>\n",
       "    <tr>\n",
       "      <th>27650</th>\n",
       "      <td>27650</td>\n",
       "      <td>0.29</td>\n",
       "      <td>Very Good</td>\n",
       "      <td>F</td>\n",
       "      <td>VVS1</td>\n",
       "      <td>60.5</td>\n",
       "      <td>57.0</td>\n",
       "      <td>4.31</td>\n",
       "      <td>4.34</td>\n",
       "      <td>2.61</td>\n",
       "      <td>6.594</td>\n",
       "    </tr>\n",
       "    <tr>\n",
       "      <th>24865</th>\n",
       "      <td>24865</td>\n",
       "      <td>1.01</td>\n",
       "      <td>Premium</td>\n",
       "      <td>H</td>\n",
       "      <td>VS2</td>\n",
       "      <td>61.6</td>\n",
       "      <td>59.0</td>\n",
       "      <td>6.45</td>\n",
       "      <td>6.47</td>\n",
       "      <td>3.98</td>\n",
       "      <td>8.550</td>\n",
       "    </tr>\n",
       "    <tr>\n",
       "      <th>25979</th>\n",
       "      <td>25979</td>\n",
       "      <td>0.63</td>\n",
       "      <td>Ideal</td>\n",
       "      <td>E</td>\n",
       "      <td>VS1</td>\n",
       "      <td>61.9</td>\n",
       "      <td>55.0</td>\n",
       "      <td>5.46</td>\n",
       "      <td>5.50</td>\n",
       "      <td>3.40</td>\n",
       "      <td>7.850</td>\n",
       "    </tr>\n",
       "    <tr>\n",
       "      <th>2804</th>\n",
       "      <td>2804</td>\n",
       "      <td>1.25</td>\n",
       "      <td>Very Good</td>\n",
       "      <td>F</td>\n",
       "      <td>SI2</td>\n",
       "      <td>58.0</td>\n",
       "      <td>63.0</td>\n",
       "      <td>7.16</td>\n",
       "      <td>7.06</td>\n",
       "      <td>4.13</td>\n",
       "      <td>8.674</td>\n",
       "    </tr>\n",
       "    <tr>\n",
       "      <th>7813</th>\n",
       "      <td>7813</td>\n",
       "      <td>2.29</td>\n",
       "      <td>Premium</td>\n",
       "      <td>H</td>\n",
       "      <td>SI2</td>\n",
       "      <td>62.5</td>\n",
       "      <td>58.0</td>\n",
       "      <td>8.43</td>\n",
       "      <td>8.37</td>\n",
       "      <td>5.25</td>\n",
       "      <td>9.779</td>\n",
       "    </tr>\n",
       "  </tbody>\n",
       "</table>\n",
       "</div>"
      ],
      "text/plain": [
       "          id  carat        cut color clarity  depth  table     x     y     z  \\\n",
       "27650  27650   0.29  Very Good     F    VVS1   60.5   57.0  4.31  4.34  2.61   \n",
       "24865  24865   1.01    Premium     H     VS2   61.6   59.0  6.45  6.47  3.98   \n",
       "25979  25979   0.63      Ideal     E     VS1   61.9   55.0  5.46  5.50  3.40   \n",
       "2804    2804   1.25  Very Good     F     SI2   58.0   63.0  7.16  7.06  4.13   \n",
       "7813    7813   2.29    Premium     H     SI2   62.5   58.0  8.43  8.37  5.25   \n",
       "\n",
       "       price  \n",
       "27650  6.594  \n",
       "24865  8.550  \n",
       "25979  7.850  \n",
       "2804   8.674  \n",
       "7813   9.779  "
      ]
     },
     "execution_count": 14,
     "metadata": {},
     "output_type": "execute_result"
    }
   ],
   "source": [
    "diamonds.sample(5)"
   ]
  },
  {
   "cell_type": "code",
   "execution_count": 15,
   "id": "4a80d6f9",
   "metadata": {},
   "outputs": [
    {
     "name": "stdout",
     "output_type": "stream",
     "text": [
      "<class 'pandas.core.frame.DataFrame'>\n",
      "RangeIndex: 40455 entries, 0 to 40454\n",
      "Data columns (total 11 columns):\n",
      " #   Column   Non-Null Count  Dtype  \n",
      "---  ------   --------------  -----  \n",
      " 0   id       40455 non-null  int64  \n",
      " 1   carat    40455 non-null  float64\n",
      " 2   cut      40455 non-null  object \n",
      " 3   color    40455 non-null  object \n",
      " 4   clarity  40455 non-null  object \n",
      " 5   depth    40455 non-null  float64\n",
      " 6   table    40455 non-null  float64\n",
      " 7   x        40455 non-null  float64\n",
      " 8   y        40455 non-null  float64\n",
      " 9   z        40455 non-null  float64\n",
      " 10  price    40455 non-null  float64\n",
      "dtypes: float64(7), int64(1), object(3)\n",
      "memory usage: 3.4+ MB\n"
     ]
    }
   ],
   "source": [
    "diamonds.info()"
   ]
  },
  {
   "cell_type": "code",
   "execution_count": null,
   "id": "a6b6f578",
   "metadata": {},
   "outputs": [],
   "source": [
    "# no null values :)"
   ]
  },
  {
   "cell_type": "code",
   "execution_count": 16,
   "id": "cdaedf53",
   "metadata": {},
   "outputs": [
    {
     "data": {
      "text/plain": [
       "{'Fair', 'Good', 'Ideal', 'Premium', 'Very Good'}"
      ]
     },
     "execution_count": 16,
     "metadata": {},
     "output_type": "execute_result"
    }
   ],
   "source": [
    "set(diamonds.cut)"
   ]
  },
  {
   "cell_type": "code",
   "execution_count": 17,
   "id": "7b1a6dbc",
   "metadata": {},
   "outputs": [
    {
     "data": {
      "text/plain": [
       "{'D', 'E', 'F', 'G', 'H', 'I', 'J'}"
      ]
     },
     "execution_count": 17,
     "metadata": {},
     "output_type": "execute_result"
    }
   ],
   "source": [
    "set(diamonds.color)"
   ]
  },
  {
   "cell_type": "code",
   "execution_count": 18,
   "id": "7b0e66f7",
   "metadata": {},
   "outputs": [
    {
     "data": {
      "text/plain": [
       "{'I1', 'IF', 'SI1', 'SI2', 'VS1', 'VS2', 'VVS1', 'VVS2'}"
      ]
     },
     "execution_count": 18,
     "metadata": {},
     "output_type": "execute_result"
    }
   ],
   "source": [
    "set(diamonds.clarity)"
   ]
  },
  {
   "cell_type": "code",
   "execution_count": null,
   "id": "1f3d66e6",
   "metadata": {},
   "outputs": [],
   "source": [
    "# categorical columns are clean"
   ]
  },
  {
   "cell_type": "code",
   "execution_count": null,
   "id": "c38df328",
   "metadata": {},
   "outputs": [],
   "source": []
  },
  {
   "cell_type": "code",
   "execution_count": 21,
   "id": "775c7b31",
   "metadata": {},
   "outputs": [
    {
     "data": {
      "image/png": "[encoded data removed]",
      "text/plain": [
       "<Figure size 1600x900 with 2 Axes>"
      ]
     },
     "metadata": {},
     "output_type": "display_data"
    }
   ],
   "source": [
    "corr = diamonds.drop(columns={\"cut\",\"color\",\"clarity\"}).corr()\n",
    "mask = np.triu(np.ones_like(corr, dtype=bool)) \n",
    "color_map = sns.diverging_palette(0, 10, as_cmap=True)\n",
    "sns.heatmap(corr,  \n",
    "            annot=True,\n",
    "            mask = mask,\n",
    "            cmap=color_map,\n",
    "            square=True, \n",
    "            linewidth=0.5,\n",
    "            vmax=1, #defining max range\n",
    "            vmin=-1, #defining min range\n",
    "            cbar_kws={\"shrink\": .5} #steps for the scale\n",
    ");"
   ]
  },
  {
   "cell_type": "code",
   "execution_count": null,
   "id": "d6b0e058",
   "metadata": {},
   "outputs": [],
   "source": [
    "'''\n",
    "Highly correlated variables:\n",
    "x-y-z\n",
    "\n",
    "'''"
   ]
  },
  {
   "cell_type": "code",
   "execution_count": 22,
   "id": "91f9aa61",
   "metadata": {},
   "outputs": [],
   "source": [
    "diamonds.drop(columns={\"y\",\"z\"},inplace=True)"
   ]
  },
  {
   "cell_type": "code",
   "execution_count": 23,
   "id": "3c2f2877",
   "metadata": {},
   "outputs": [
    {
     "data": {
      "image/png": "[encoded data removed]",
      "text/plain": [
       "<Figure size 1600x900 with 2 Axes>"
      ]
     },
     "metadata": {},
     "output_type": "display_data"
    }
   ],
   "source": [
    "corr = diamonds.drop(columns={\"cut\",\"color\",\"clarity\"}).corr()\n",
    "mask = np.triu(np.ones_like(corr, dtype=bool)) \n",
    "color_map = sns.diverging_palette(0, 10, as_cmap=True)\n",
    "sns.heatmap(corr,  \n",
    "            annot=True,\n",
    "            mask = mask,\n",
    "            cmap=color_map,\n",
    "            square=True, \n",
    "            linewidth=0.5,\n",
    "            vmax=1, #defining max range\n",
    "            vmin=-1, #defining min range\n",
    "            cbar_kws={\"shrink\": .5} #steps for the scale\n",
    ");"
   ]
  },
  {
   "cell_type": "code",
   "execution_count": null,
   "id": "8ef5be03",
   "metadata": {},
   "outputs": [],
   "source": [
    "# it seems that price depends especially on carat and x values"
   ]
  },
  {
   "cell_type": "code",
   "execution_count": 29,
   "id": "ddd736c4",
   "metadata": {},
   "outputs": [
    {
     "name": "stdout",
     "output_type": "stream",
     "text": [
      "<class 'pandas.core.frame.DataFrame'>\n",
      "RangeIndex: 40455 entries, 0 to 40454\n",
      "Data columns (total 9 columns):\n",
      " #   Column   Non-Null Count  Dtype  \n",
      "---  ------   --------------  -----  \n",
      " 0   id       40455 non-null  int64  \n",
      " 1   carat    40455 non-null  float64\n",
      " 2   cut      40455 non-null  object \n",
      " 3   color    40455 non-null  object \n",
      " 4   clarity  40455 non-null  object \n",
      " 5   depth    40455 non-null  float64\n",
      " 6   table    40455 non-null  float64\n",
      " 7   x        40455 non-null  float64\n",
      " 8   price    40455 non-null  float64\n",
      "dtypes: float64(5), int64(1), object(3)\n",
      "memory usage: 2.8+ MB\n"
     ]
    }
   ],
   "source": [
    "diamonds.info()"
   ]
  },
  {
   "cell_type": "code",
   "execution_count": null,
   "id": "f8d20a81",
   "metadata": {},
   "outputs": [],
   "source": []
  },
  {
   "cell_type": "markdown",
   "id": "2ad90c96",
   "metadata": {},
   "source": [
    "## models to try"
   ]
  },
  {
   "cell_type": "code",
   "execution_count": 45,
   "id": "5b77c6d7",
   "metadata": {},
   "outputs": [],
   "source": [
    "from sklearn.linear_model import LinearRegression as LinReg\n",
    "from sklearn.linear_model import Ridge, Lasso # regularization\n",
    "from sklearn.linear_model import SGDRegressor\n",
    "from sklearn.neighbors import KNeighborsRegressor\n",
    "from sklearn.ensemble import GradientBoostingRegressor\n",
    "from sklearn.svm import SVR"
   ]
  },
  {
   "cell_type": "code",
   "execution_count": 46,
   "id": "078cfa01",
   "metadata": {},
   "outputs": [],
   "source": [
    "models = {\n",
    "    \"lr\": LinReg(),\n",
    "    \"ridge\": Ridge(), #lr similar\n",
    "    \"lasso\": Lasso(), # lr similar \n",
    "    \"sgd\": SGDRegressor(),\n",
    "    \"knn\": KNeighborsRegressor(),\n",
    "    \"grad\": GradientBoostingRegressor(),\n",
    "    \"svr\": SVR() #potato chip\n",
    "}"
   ]
  },
  {
   "cell_type": "code",
   "execution_count": 48,
   "id": "5c396327",
   "metadata": {},
   "outputs": [],
   "source": [
    "def more_models(X_train, y_train, X_test,y_test):\n",
    "    for model in models.values():\n",
    "        model.fit(X_train, y_train)\n",
    "        \n",
    "    for name, model in models.items():\n",
    "        y_pred = model.predict(X_test)\n",
    "        print(f\"------------{name}------------\\n\")\n",
    "        print(f\"MAE, error: {metrics.mean_absolute_error(y_test, y_pred)}\")\n",
    "        print(f\"MSE, error: {metrics.mean_squared_error(y_test, y_pred)}\")\n",
    "        print(f\"RMSE, error: {np.sqrt(metrics.mean_squared_error(y_test, y_pred))}\")\n",
    "        print(f\"r2: {metrics.r2_score(y_test, y_pred)}\")\n",
    "        print(\"\\n\")"
   ]
  },
  {
   "cell_type": "code",
   "execution_count": null,
   "id": "dcac9c51",
   "metadata": {},
   "outputs": [],
   "source": []
  },
  {
   "cell_type": "markdown",
   "id": "e15cdd07",
   "metadata": {},
   "source": [
    "### Feature Selection"
   ]
  },
  {
   "cell_type": "code",
   "execution_count": null,
   "id": "3b046ecf",
   "metadata": {},
   "outputs": [],
   "source": []
  },
  {
   "cell_type": "code",
   "execution_count": null,
   "id": "356a48cb",
   "metadata": {},
   "outputs": [],
   "source": []
  },
  {
   "cell_type": "code",
   "execution_count": null,
   "id": "445f715a",
   "metadata": {},
   "outputs": [],
   "source": [
    "from sklearn.feature_selection import RFE"
   ]
  },
  {
   "cell_type": "code",
   "execution_count": null,
   "id": "fa96bc26",
   "metadata": {},
   "outputs": [],
   "source": []
  },
  {
   "cell_type": "markdown",
   "id": "d80904e2",
   "metadata": {},
   "source": [
    "## keeping only x and carat"
   ]
  },
  {
   "cell_type": "code",
   "execution_count": 35,
   "id": "f06ed748",
   "metadata": {},
   "outputs": [],
   "source": [
    "diamonds1 = diamonds[[\"carat\",\"x\",\"price\"]]"
   ]
  },
  {
   "cell_type": "code",
   "execution_count": 36,
   "id": "1968b8be",
   "metadata": {},
   "outputs": [],
   "source": [
    "from sklearn.model_selection import train_test_split\n",
    "\n",
    "X = diamonds1.drop(\"price\", axis=1)\n",
    "y = diamonds1[\"price\"]\n",
    "\n",
    "X_train, X_test, y_train, y_test = train_test_split(X, y, test_size=0.2)"
   ]
  },
  {
   "cell_type": "code",
   "execution_count": null,
   "id": "f4200a87",
   "metadata": {},
   "outputs": [],
   "source": []
  },
  {
   "cell_type": "code",
   "execution_count": 49,
   "id": "8d7b5705",
   "metadata": {},
   "outputs": [
    {
     "name": "stdout",
     "output_type": "stream",
     "text": [
      "------------lr------------\n",
      "\n",
      "MAE, error: 0.20817674268310424\n",
      "MSE, error: 0.08222205294979484\n",
      "RMSE, error: 0.2867438804051358\n",
      "r2: 0.920767853076318\n",
      "\n",
      "\n",
      "------------ridge------------\n",
      "\n",
      "MAE, error: 0.20818572746162634\n",
      "MSE, error: 0.08220872714406263\n",
      "RMSE, error: 0.28672064303789263\n",
      "r2: 0.9207806943051584\n",
      "\n",
      "\n",
      "------------lasso------------\n",
      "\n",
      "MAE, error: 0.8172386980766198\n",
      "MSE, error: 0.8891931298695646\n",
      "RMSE, error: 0.9429703759236366\n",
      "r2: 0.14314130842278228\n",
      "\n",
      "\n",
      "------------sgd------------\n",
      "\n",
      "MAE, error: 0.2087310788574668\n",
      "MSE, error: 0.08425057215280318\n",
      "RMSE, error: 0.29025949106412213\n",
      "r2: 0.918813098533417\n",
      "\n",
      "\n",
      "------------knn------------\n",
      "\n",
      "MAE, error: 0.20976099369670004\n",
      "MSE, error: 0.07228188479545174\n",
      "RMSE, error: 0.2688529054993673\n",
      "r2: 0.9303465589757185\n",
      "\n",
      "\n",
      "------------grad------------\n",
      "\n",
      "MAE, error: 0.19504629583428199\n",
      "MSE, error: 0.06222576634756145\n",
      "RMSE, error: 0.24945092973881947\n",
      "r2: 0.9400369987757525\n",
      "\n",
      "\n",
      "------------svr------------\n",
      "\n",
      "MAE, error: 0.1994928327393402\n",
      "MSE, error: 0.06596809670262185\n",
      "RMSE, error: 0.2568425523596545\n",
      "r2: 0.9364307537612896\n",
      "\n",
      "\n"
     ]
    }
   ],
   "source": [
    "more_models(X_train, y_train, X_test, y_test)"
   ]
  },
  {
   "cell_type": "code",
   "execution_count": null,
   "id": "fc02aeab",
   "metadata": {},
   "outputs": [],
   "source": [
    "# ora prova feature selection e cross_validation"
   ]
  },
  {
   "cell_type": "code",
   "execution_count": null,
   "id": "02412567",
   "metadata": {},
   "outputs": [],
   "source": []
  },
  {
   "cell_type": "code",
   "execution_count": null,
   "id": "346fd184",
   "metadata": {},
   "outputs": [],
   "source": []
  },
  {
   "cell_type": "code",
   "execution_count": null,
   "id": "0f47f8ce",
   "metadata": {},
   "outputs": [],
   "source": []
  },
  {
   "cell_type": "code",
   "execution_count": null,
   "id": "514f8eaa",
   "metadata": {},
   "outputs": [],
   "source": []
  },
  {
   "cell_type": "markdown",
   "id": "2f640f4a",
   "metadata": {},
   "source": [
    "## keeping all dataset"
   ]
  },
  {
   "cell_type": "code",
   "execution_count": null,
   "id": "7366ab55",
   "metadata": {},
   "outputs": [],
   "source": []
  }
 ],
 "metadata": {
  "kernelspec": {
   "display_name": "ironhack",
   "language": "python",
   "name": "ironhack"
  },
  "language_info": {
   "codemirror_mode": {
    "name": "ipython",
    "version": 3
   },
   "file_extension": ".py",
   "mimetype": "text/x-python",
   "name": "python",
   "nbconvert_exporter": "python",
   "pygments_lexer": "ipython3",
   "version": "3.11.5"
  }
 },
 "nbformat": 4,
 "nbformat_minor": 5
}
